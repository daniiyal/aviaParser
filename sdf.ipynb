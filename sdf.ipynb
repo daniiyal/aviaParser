{
 "cells": [
  {
   "cell_type": "code",
   "id": "initial_id",
   "metadata": {
    "collapsed": true,
    "ExecuteTime": {
     "end_time": "2025-03-07T17:57:34.980975Z",
     "start_time": "2025-03-07T17:57:34.970458Z"
    }
   },
   "source": [
    "from datetime import datetime\n",
    "\n",
    "months = {\n",
    "    'января': 'january',\n",
    "    'ферваля': 'february',\n",
    "    'марта': 'march',\n",
    "    'апреля': 'april',\n",
    "    'мая': 'may',\n",
    "    'июня': 'june',\n",
    "    'июля': 'july',\n",
    "    'августа': 'august',\n",
    "    'сентября': 'september',\n",
    "    'октября': 'october',\n",
    "    'ноября': 'november',\n",
    "    'декабря': 'december'\n",
    "}\n",
    "\n",
    "# Входная дата в формате \"6 марта\"\n",
    "date_str = \"6 марта\"\n",
    "new_Date = date_str.split()[0] + ' ' + months.get(date_str.split()[1])\n",
    "time_str = \"14:00\"\n",
    "# Преобразование строки в объект datetime\n",
    "date_obj = datetime.strptime(new_Date, \"%d %B\")\n",
    "time_obj = datetime.strptime(time_str, \"%H:%M\")\n",
    "# Добавление года 2025\n",
    "date_obj = date_obj.replace(year=datetime.now().year)\n",
    "date_obj = date_obj.replace(hour=time_obj.hour, minute=time_obj.minute)\n",
    "# Форматирование даты в требуемый вид\n",
    "formatted_date = date_obj.strftime(\"%d.%m.%Y %H:%M\")\n",
    "\n",
    "print(formatted_date)  # Выведет: 06.03.2025"
   ],
   "outputs": [
    {
     "name": "stdout",
     "output_type": "stream",
     "text": [
      "06.03.2025 14:00\n"
     ]
    }
   ],
   "execution_count": 11
  },
  {
   "metadata": {
    "ExecuteTime": {
     "end_time": "2025-03-07T18:01:53.483608Z",
     "start_time": "2025-03-07T18:01:53.470095Z"
    }
   },
   "cell_type": "code",
   "source": "\"Рейс S7 5315 Новосибирск — Абакан\".split()",
   "id": "fcb9a80beb52fe6b",
   "outputs": [
    {
     "data": {
      "text/plain": [
       "['Рейс', 'S7', '5315', 'Новосибирск', '—', 'Абакан']"
      ]
     },
     "execution_count": 12,
     "metadata": {},
     "output_type": "execute_result"
    }
   ],
   "execution_count": 12
  },
  {
   "metadata": {
    "ExecuteTime": {
     "end_time": "2025-03-07T18:25:27.169891Z",
     "start_time": "2025-03-07T18:25:27.152889Z"
    }
   },
   "cell_type": "code",
   "source": [
    "import csv\n",
    "proxies = []\n",
    "with open('Free_Proxy_List.csv', newline='') as csvfile:\n",
    "    spamreader = csv.reader(csvfile, delimiter=',', quotechar='|')\n",
    "    for row in spamreader:\n",
    "        print(row[0].split('\\\"')[1])\n",
    "        proxies.append(row[0].split('\\\"')[1])\n",
    "    \n",
    "with open(\"aviascraper/aviascraper/proxy_list.txt\", \"w\") as file:\n",
    "    for proxy in proxies:\n",
    "        file.write(proxy + \"\\n\")\n",
    "     "
   ],
   "id": "6410c2731303d7a4",
   "outputs": [
    {
     "name": "stdout",
     "output_type": "stream",
     "text": [
      "5.8.240.94\n",
      "223.247.47.172\n",
      "198.89.91.198\n",
      "115.85.86.114\n",
      "103.59.203.201\n",
      "192.210.239.214\n",
      "223.25.101.86\n",
      "196.0.111.186\n",
      "180.211.183.178\n",
      "103.206.105.193\n",
      "197.234.13.20\n",
      "197.234.13.56\n",
      "181.12.80.21\n",
      "218.1.200.156\n",
      "172.104.56.209\n",
      "31.6.26.113\n",
      "202.29.214.22\n",
      "51.210.43.253\n",
      "178.63.84.228\n",
      "167.99.231.233\n",
      "181.115.17.146\n",
      "43.153.174.106\n",
      "192.252.208.67\n",
      "154.12.255.155\n",
      "197.234.13.29\n",
      "119.42.125.209\n",
      "185.170.233.109\n",
      "109.75.42.82\n",
      "75.176.225.10\n",
      "180.191.23.9\n",
      "137.184.142.37\n",
      "42.248.121.138\n",
      "81.162.199.93\n",
      "103.10.210.17\n",
      "118.27.114.32\n",
      "45.112.125.51\n",
      "110.78.148.249\n",
      "181.129.62.2\n",
      "27.123.1.36\n",
      "222.97.229.235\n",
      "109.236.88.38\n",
      "104.129.194.104\n",
      "195.74.72.111\n",
      "77.85.104.54\n",
      "31.44.82.182\n",
      "186.96.124.242\n",
      "36.89.85.249\n",
      "62.77.240.27\n",
      "104.255.170.89\n",
      "165.154.227.154\n",
      "27.189.133.30\n",
      "223.255.159.202\n",
      "116.106.107.220\n",
      "111.118.135.132\n",
      "124.121.95.244\n",
      "95.65.73.200\n",
      "183.88.212.167\n",
      "190.2.142.30\n",
      "82.137.245.41\n",
      "143.198.237.236\n",
      "49.49.141.249\n",
      "118.173.230.149\n",
      "175.24.205.226\n",
      "104.168.91.223\n",
      "103.205.128.81\n",
      "104.37.175.206\n",
      "172.105.251.72\n",
      "45.82.64.158\n",
      "178.208.183.176\n",
      "91.92.80.199\n",
      "35.190.107.16\n",
      "177.190.192.57\n",
      "202.162.219.12\n",
      "61.7.138.170\n",
      "186.216.195.1\n",
      "103.48.181.189\n",
      "67.205.3.113\n",
      "203.190.53.38\n",
      "94.23.149.39\n",
      "51.222.241.157\n",
      "103.89.235.241\n",
      "203.30.191.92\n",
      "186.251.255.13\n",
      "185.163.195.167\n",
      "118.179.87.170\n",
      "101.96.117.164\n",
      "103.224.48.38\n",
      "106.40.241.182\n",
      "27.123.3.138\n",
      "131.234.22.29\n",
      "186.235.184.194\n",
      "130.51.180.134\n",
      "178.215.163.218\n",
      "89.38.98.115\n",
      "171.247.99.235\n",
      "162.241.6.97\n",
      "51.52.205.98\n",
      "112.195.36.157\n",
      "105.214.58.240\n",
      "188.68.52.220\n"
     ]
    }
   ],
   "execution_count": 30
  },
  {
   "metadata": {
    "ExecuteTime": {
     "end_time": "2025-03-08T11:39:25.164484Z",
     "start_time": "2025-03-08T11:39:23.209160Z"
    }
   },
   "cell_type": "code",
   "source": "!pip install pandas openpyxl",
   "id": "9c24a000cda36bbf",
   "outputs": [
    {
     "name": "stdout",
     "output_type": "stream",
     "text": [
      "Requirement already satisfied: pandas in c:\\users\\daniyal\\pycharmprojects\\aviaparser\\.venv\\lib\\site-packages (2.2.3)\n",
      "Requirement already satisfied: openpyxl in c:\\users\\daniyal\\pycharmprojects\\aviaparser\\.venv\\lib\\site-packages (3.1.5)\n",
      "Requirement already satisfied: numpy>=1.22.4 in c:\\users\\daniyal\\pycharmprojects\\aviaparser\\.venv\\lib\\site-packages (from pandas) (2.0.2)\n",
      "Requirement already satisfied: python-dateutil>=2.8.2 in c:\\users\\daniyal\\pycharmprojects\\aviaparser\\.venv\\lib\\site-packages (from pandas) (2.9.0.post0)\n",
      "Requirement already satisfied: pytz>=2020.1 in c:\\users\\daniyal\\pycharmprojects\\aviaparser\\.venv\\lib\\site-packages (from pandas) (2025.1)\n",
      "Requirement already satisfied: tzdata>=2022.7 in c:\\users\\daniyal\\pycharmprojects\\aviaparser\\.venv\\lib\\site-packages (from pandas) (2025.1)\n",
      "Requirement already satisfied: et-xmlfile in c:\\users\\daniyal\\pycharmprojects\\aviaparser\\.venv\\lib\\site-packages (from openpyxl) (2.0.0)\n",
      "Requirement already satisfied: six>=1.5 in c:\\users\\daniyal\\pycharmprojects\\aviaparser\\.venv\\lib\\site-packages (from python-dateutil>=2.8.2->pandas) (1.17.0)\n"
     ]
    },
    {
     "name": "stderr",
     "output_type": "stream",
     "text": [
      "\n",
      "[notice] A new release of pip is available: 23.2.1 -> 25.0.1\n",
      "[notice] To update, run: python.exe -m pip install --upgrade pip\n"
     ]
    }
   ],
   "execution_count": 2
  },
  {
   "metadata": {
    "ExecuteTime": {
     "end_time": "2025-03-08T11:53:54.560998Z",
     "start_time": "2025-03-08T11:53:54.527948Z"
    }
   },
   "cell_type": "code",
   "source": [
    "import pandas as pd\n",
    "df = pd.read_excel(\"C:\\\\Users\\\\Daniyal\\\\PycharmProjects\\\\aviaParser\\\\aviascraper\\\\aviascraper\\\\routes_table.xlsx\", engine='openpyxl', usecols=(1, 3))\n",
    "df"
   ],
   "id": "d56763adc22c9360",
   "outputs": [
    {
     "data": {
      "text/plain": [
       "    Код отправления Код прибытия\n",
       "0               ABA          MOW\n",
       "1               AUH          MOW\n",
       "2               AER          SVX\n",
       "3               AER          KZN\n",
       "4               AER          MOW\n",
       "..              ...          ...\n",
       "251             SSH          LED\n",
       "252             CIT          MOW\n",
       "253             ESL          MOW\n",
       "254             UUS          MOW\n",
       "255             YKS          MOW\n",
       "\n",
       "[256 rows x 2 columns]"
      ],
      "text/html": [
       "<div>\n",
       "<style scoped>\n",
       "    .dataframe tbody tr th:only-of-type {\n",
       "        vertical-align: middle;\n",
       "    }\n",
       "\n",
       "    .dataframe tbody tr th {\n",
       "        vertical-align: top;\n",
       "    }\n",
       "\n",
       "    .dataframe thead th {\n",
       "        text-align: right;\n",
       "    }\n",
       "</style>\n",
       "<table border=\"1\" class=\"dataframe\">\n",
       "  <thead>\n",
       "    <tr style=\"text-align: right;\">\n",
       "      <th></th>\n",
       "      <th>Код отправления</th>\n",
       "      <th>Код прибытия</th>\n",
       "    </tr>\n",
       "  </thead>\n",
       "  <tbody>\n",
       "    <tr>\n",
       "      <th>0</th>\n",
       "      <td>ABA</td>\n",
       "      <td>MOW</td>\n",
       "    </tr>\n",
       "    <tr>\n",
       "      <th>1</th>\n",
       "      <td>AUH</td>\n",
       "      <td>MOW</td>\n",
       "    </tr>\n",
       "    <tr>\n",
       "      <th>2</th>\n",
       "      <td>AER</td>\n",
       "      <td>SVX</td>\n",
       "    </tr>\n",
       "    <tr>\n",
       "      <th>3</th>\n",
       "      <td>AER</td>\n",
       "      <td>KZN</td>\n",
       "    </tr>\n",
       "    <tr>\n",
       "      <th>4</th>\n",
       "      <td>AER</td>\n",
       "      <td>MOW</td>\n",
       "    </tr>\n",
       "    <tr>\n",
       "      <th>...</th>\n",
       "      <td>...</td>\n",
       "      <td>...</td>\n",
       "    </tr>\n",
       "    <tr>\n",
       "      <th>251</th>\n",
       "      <td>SSH</td>\n",
       "      <td>LED</td>\n",
       "    </tr>\n",
       "    <tr>\n",
       "      <th>252</th>\n",
       "      <td>CIT</td>\n",
       "      <td>MOW</td>\n",
       "    </tr>\n",
       "    <tr>\n",
       "      <th>253</th>\n",
       "      <td>ESL</td>\n",
       "      <td>MOW</td>\n",
       "    </tr>\n",
       "    <tr>\n",
       "      <th>254</th>\n",
       "      <td>UUS</td>\n",
       "      <td>MOW</td>\n",
       "    </tr>\n",
       "    <tr>\n",
       "      <th>255</th>\n",
       "      <td>YKS</td>\n",
       "      <td>MOW</td>\n",
       "    </tr>\n",
       "  </tbody>\n",
       "</table>\n",
       "<p>256 rows × 2 columns</p>\n",
       "</div>"
      ]
     },
     "execution_count": 16,
     "metadata": {},
     "output_type": "execute_result"
    }
   ],
   "execution_count": 16
  },
  {
   "metadata": {
    "ExecuteTime": {
     "end_time": "2025-03-08T11:54:08.519810Z",
     "start_time": "2025-03-08T11:54:08.493326Z"
    }
   },
   "cell_type": "code",
   "source": [
    "routes_list = []\n",
    "for index, row in df.iterrows():\n",
    "    routes_list.append({row['Код отправления']: row['Код прибытия']})\n",
    "\n",
    "routes_list\n"
   ],
   "id": "4681f1826e92d45d",
   "outputs": [
    {
     "data": {
      "text/plain": [
       "[{'ABA': 'MOW'},\n",
       " {'AUH': 'MOW'},\n",
       " {'AER': 'SVX'},\n",
       " {'AER': 'KZN'},\n",
       " {'AER': 'MOW'},\n",
       " {'AER': 'OVB'},\n",
       " {'AER': 'PEE'},\n",
       " {'AER': 'KUF'},\n",
       " {'AER': 'LED'},\n",
       " {'AER': 'TJM'},\n",
       " {'AER': 'UFA'},\n",
       " {'SCO': 'MOW'},\n",
       " {'ALA': 'MOW'},\n",
       " {'AYT': 'GRV'},\n",
       " {'AYT': 'SVX'},\n",
       " {'AYT': 'MOW'},\n",
       " {'ARH': 'MOW'},\n",
       " {'NQZ': 'MOW'},\n",
       " {'ASF': 'MOW'},\n",
       " {'GUW': 'MOW'},\n",
       " {'GYD': 'MOW'},\n",
       " {'BKK': 'VVO'},\n",
       " {'BKK': 'SVX'},\n",
       " {'BKK': 'IKT'},\n",
       " {'BKK': 'KJA'},\n",
       " {'BKK': 'MOW'},\n",
       " {'BKK': 'OVB'},\n",
       " {'BKK': 'LED'},\n",
       " {'BKK': 'KHV'},\n",
       " {'BAX': 'MOW'},\n",
       " {'FRU': 'MOW'},\n",
       " {'BJV': 'MOW'},\n",
       " {'BHK': 'MOW'},\n",
       " {'VVO': 'BKK'},\n",
       " {'VVO': 'MOW'},\n",
       " {'VVO': 'HKT'},\n",
       " {'VVO': 'SYX'},\n",
       " {'VOG': 'MOW'},\n",
       " {'GOI': 'SVX'},\n",
       " {'GOI': 'MOW'},\n",
       " {'HKG': 'MOW'},\n",
       " {'RGK': 'MOW'},\n",
       " {'GRV': 'AYT'},\n",
       " {'GRV': 'MOW'},\n",
       " {'CAN': 'MOW'},\n",
       " {'KVD': 'MOW'},\n",
       " {'DLM': 'MOW'},\n",
       " {'DPS': 'MOW'},\n",
       " {'DXB': 'MOW'},\n",
       " {'DXB': 'MOW'},\n",
       " {'SVX': 'AER'},\n",
       " {'SVX': 'AYT'},\n",
       " {'SVX': 'BKK'},\n",
       " {'SVX': 'GOI'},\n",
       " {'SVX': 'EVN'},\n",
       " {'SVX': 'MRV'},\n",
       " {'SVX': 'MOW'},\n",
       " {'SVX': 'HKT'},\n",
       " {'SVX': 'SYX'},\n",
       " {'SVX': 'IST'},\n",
       " {'EVN': 'SVX'},\n",
       " {'EVN': 'MOW'},\n",
       " {'IJK': 'MOW'},\n",
       " {'IKT': 'BKK'},\n",
       " {'IKT': 'MOW'},\n",
       " {'IKT': 'HKT'},\n",
       " {'KZN': 'AER'},\n",
       " {'KZN': 'MOW'},\n",
       " {'CAI': 'MOW'},\n",
       " {'KGD': 'MOW'},\n",
       " {'KGF': 'MOW'},\n",
       " {'KEJ': 'MOW'},\n",
       " {'KVK': 'MOW'},\n",
       " {'CMB': 'MOW'},\n",
       " {'KJA': 'BKK'},\n",
       " {'KJA': 'MOW'},\n",
       " {'KJA': 'HKT'},\n",
       " {'MQF': 'MOW'},\n",
       " {'MLE': 'MOW'},\n",
       " {'MCX': 'MOW'},\n",
       " {'COV': 'MOW'},\n",
       " {'MRV': 'SVX'},\n",
       " {'MRV': 'MOW'},\n",
       " {'MSQ': 'MOW'},\n",
       " {'MOW': 'ABA'},\n",
       " {'MOW': 'AUH'},\n",
       " {'MOW': 'AER'},\n",
       " {'MOW': 'SCO'},\n",
       " {'MOW': 'ALA'},\n",
       " {'MOW': 'AYT'},\n",
       " {'MOW': 'ARH'},\n",
       " {'MOW': 'NQZ'},\n",
       " {'MOW': 'ASF'},\n",
       " {'MOW': 'GUW'},\n",
       " {'MOW': 'GYD'},\n",
       " {'MOW': 'BKK'},\n",
       " {'MOW': 'BAX'},\n",
       " {'MOW': 'FRU'},\n",
       " {'MOW': 'BJV'},\n",
       " {'MOW': 'BHK'},\n",
       " {'MOW': 'VVO'},\n",
       " {'MOW': 'VOG'},\n",
       " {'MOW': 'GOI'},\n",
       " {'MOW': 'HKG'},\n",
       " {'MOW': 'RGK'},\n",
       " {'MOW': 'GRV'},\n",
       " {'MOW': 'CAN'},\n",
       " {'MOW': 'KVD'},\n",
       " {'MOW': 'DLM'},\n",
       " {'MOW': 'DPS'},\n",
       " {'MOW': 'DXB'},\n",
       " {'MOW': 'DXB'},\n",
       " {'MOW': 'SVX'},\n",
       " {'MOW': 'EVN'},\n",
       " {'MOW': 'IJK'},\n",
       " {'MOW': 'IKT'},\n",
       " {'MOW': 'KZN'},\n",
       " {'MOW': 'CAI'},\n",
       " {'MOW': 'KGD'},\n",
       " {'MOW': 'KGF'},\n",
       " {'MOW': 'KEJ'},\n",
       " {'MOW': 'KVK'},\n",
       " {'MOW': 'CMB'},\n",
       " {'MOW': 'KJA'},\n",
       " {'MOW': 'MQF'},\n",
       " {'MOW': 'MLE'},\n",
       " {'MOW': 'MCX'},\n",
       " {'MOW': 'COV'},\n",
       " {'MOW': 'MRV'},\n",
       " {'MOW': 'MSQ'},\n",
       " {'MOW': 'MMK'},\n",
       " {'MOW': 'NBC'},\n",
       " {'MOW': 'NJC'},\n",
       " {'MOW': 'GOJ'},\n",
       " {'MOW': 'NOZ'},\n",
       " {'MOW': 'OVB'},\n",
       " {'MOW': 'NUX'},\n",
       " {'MOW': 'DEL'},\n",
       " {'MOW': 'OMS'},\n",
       " {'MOW': 'REN'},\n",
       " {'MOW': 'OSW'},\n",
       " {'MOW': 'SEZ'},\n",
       " {'MOW': 'OSS'},\n",
       " {'MOW': 'PKX'},\n",
       " {'MOW': 'PEZ'},\n",
       " {'MOW': 'PEE'},\n",
       " {'MOW': 'PKC'},\n",
       " {'MOW': 'HKT'},\n",
       " {'MOW': 'KUF'},\n",
       " {'MOW': 'SKD'},\n",
       " {'MOW': 'LED'},\n",
       " {'MOW': 'SYX'},\n",
       " {'MOW': 'GSV'},\n",
       " {'MOW': 'STW'},\n",
       " {'MOW': 'IST'},\n",
       " {'MOW': 'SGC'},\n",
       " {'MOW': 'TAS'},\n",
       " {'MOW': 'IKA'},\n",
       " {'MOW': 'TOF'},\n",
       " {'MOW': 'TJM'},\n",
       " {'MOW': 'ULV'},\n",
       " {'MOW': 'UGC'},\n",
       " {'MOW': 'UFA'},\n",
       " {'MOW': 'FEG'},\n",
       " {'MOW': 'KHV'},\n",
       " {'MOW': 'HMA'},\n",
       " {'MOW': 'SGN'},\n",
       " {'MOW': 'HRG'},\n",
       " {'MOW': 'CSY'},\n",
       " {'MOW': 'CEK'},\n",
       " {'MOW': 'PVG'},\n",
       " {'MOW': 'SSH'},\n",
       " {'MOW': 'CIT'},\n",
       " {'MOW': 'ESL'},\n",
       " {'MOW': 'UUS'},\n",
       " {'MOW': 'YKS'},\n",
       " {'MMK': 'MOW'},\n",
       " {'NBC': 'MOW'},\n",
       " {'NJC': 'MOW'},\n",
       " {'GOJ': 'MOW'},\n",
       " {'NOZ': 'MOW'},\n",
       " {'OVB': 'AER'},\n",
       " {'OVB': 'BKK'},\n",
       " {'OVB': 'MOW'},\n",
       " {'OVB': 'HKT'},\n",
       " {'OVB': 'LED'},\n",
       " {'OVB': 'SYX'},\n",
       " {'NUX': 'MOW'},\n",
       " {'DEL': 'MOW'},\n",
       " {'OMS': 'MOW'},\n",
       " {'REN': 'MOW'},\n",
       " {'REN': 'LED'},\n",
       " {'OSW': 'MOW'},\n",
       " {'SEZ': 'MOW'},\n",
       " {'OSS': 'MOW'},\n",
       " {'PKX': 'MOW'},\n",
       " {'PEZ': 'MOW'},\n",
       " {'PEE': 'AER'},\n",
       " {'PEE': 'MOW'},\n",
       " {'PKC': 'MOW'},\n",
       " {'HKT': 'VVO'},\n",
       " {'HKT': 'SVX'},\n",
       " {'HKT': 'IKT'},\n",
       " {'HKT': 'KJA'},\n",
       " {'HKT': 'MOW'},\n",
       " {'HKT': 'OVB'},\n",
       " {'HKT': 'LED'},\n",
       " {'HKT': 'KHV'},\n",
       " {'KUF': 'AER'},\n",
       " {'KUF': 'MOW'},\n",
       " {'SKD': 'MOW'},\n",
       " {'LED': 'AER'},\n",
       " {'LED': 'BKK'},\n",
       " {'LED': 'MOW'},\n",
       " {'LED': 'OVB'},\n",
       " {'LED': 'REN'},\n",
       " {'LED': 'HKT'},\n",
       " {'LED': 'HRG'},\n",
       " {'LED': 'SSH'},\n",
       " {'SYX': 'VVO'},\n",
       " {'SYX': 'SVX'},\n",
       " {'SYX': 'MOW'},\n",
       " {'SYX': 'OVB'},\n",
       " {'SYX': 'KHV'},\n",
       " {'GSV': 'MOW'},\n",
       " {'STW': 'MOW'},\n",
       " {'IST': 'SVX'},\n",
       " {'IST': 'MOW'},\n",
       " {'SGC': 'MOW'},\n",
       " {'TAS': 'MOW'},\n",
       " {'IKA': 'MOW'},\n",
       " {'TOF': 'MOW'},\n",
       " {'TJM': 'AER'},\n",
       " {'TJM': 'MOW'},\n",
       " {'ULV': 'MOW'},\n",
       " {'UGC': 'MOW'},\n",
       " {'UFA': 'AER'},\n",
       " {'UFA': 'MOW'},\n",
       " {'FEG': 'MOW'},\n",
       " {'KHV': 'BKK'},\n",
       " {'KHV': 'MOW'},\n",
       " {'KHV': 'HKT'},\n",
       " {'KHV': 'SYX'},\n",
       " {'HMA': 'MOW'},\n",
       " {'SGN': 'MOW'},\n",
       " {'HRG': 'MOW'},\n",
       " {'HRG': 'LED'},\n",
       " {'CSY': 'MOW'},\n",
       " {'CEK': 'MOW'},\n",
       " {'PVG': 'MOW'},\n",
       " {'SSH': 'MOW'},\n",
       " {'SSH': 'LED'},\n",
       " {'CIT': 'MOW'},\n",
       " {'ESL': 'MOW'},\n",
       " {'UUS': 'MOW'},\n",
       " {'YKS': 'MOW'}]"
      ]
     },
     "execution_count": 18,
     "metadata": {},
     "output_type": "execute_result"
    }
   ],
   "execution_count": 18
  },
  {
   "metadata": {
    "ExecuteTime": {
     "end_time": "2025-03-08T16:32:19.535578Z",
     "start_time": "2025-03-08T16:32:19.527581Z"
    }
   },
   "cell_type": "code",
   "source": [
    "from datetime import datetime\n",
    "   \n",
    "date_str = \"08.03.25 (15:40)\"\n",
    "time_obj = datetime.strptime(date_str, \"%d.%m.%y (%H:%M)\")\n",
    "time_obj"
   ],
   "id": "4352496859e32559",
   "outputs": [
    {
     "data": {
      "text/plain": [
       "datetime.datetime(2025, 3, 8, 15, 40)"
      ]
     },
     "execution_count": 4,
     "metadata": {},
     "output_type": "execute_result"
    }
   ],
   "execution_count": 4
  },
  {
   "metadata": {
    "ExecuteTime": {
     "end_time": "2025-03-08T13:51:56.202696Z",
     "start_time": "2025-03-08T13:51:56.182616Z"
    }
   },
   "cell_type": "code",
   "source": [
    "date = \"20250310\"\n",
    "date_obj = datetime.strptime(date, \"%Y%m%d\")\n",
    "date_obj"
   ],
   "id": "323971dccab5f11d",
   "outputs": [
    {
     "data": {
      "text/plain": [
       "datetime.datetime(2025, 3, 10, 0, 0)"
      ]
     },
     "execution_count": 27,
     "metadata": {},
     "output_type": "execute_result"
    }
   ],
   "execution_count": 27
  },
  {
   "metadata": {
    "ExecuteTime": {
     "end_time": "2025-03-08T14:06:08.291926Z",
     "start_time": "2025-03-08T14:06:08.275410Z"
    }
   },
   "cell_type": "code",
   "source": [
    "routes = [{'ABA': 'MOW'}, {'AUH': 'MOW'}]\n",
    "for route in routes:\n",
    "   for k, v in route.items():\n",
    "       print(k, v)"
   ],
   "id": "938ef597cfc3edd2",
   "outputs": [
    {
     "ename": "TypeError",
     "evalue": "'dict_items' object is not subscriptable",
     "output_type": "error",
     "traceback": [
      "\u001B[1;31m---------------------------------------------------------------------------\u001B[0m",
      "\u001B[1;31mTypeError\u001B[0m                                 Traceback (most recent call last)",
      "Cell \u001B[1;32mIn[36], line 3\u001B[0m\n\u001B[0;32m      1\u001B[0m routes \u001B[38;5;241m=\u001B[39m [{\u001B[38;5;124m'\u001B[39m\u001B[38;5;124mABA\u001B[39m\u001B[38;5;124m'\u001B[39m: \u001B[38;5;124m'\u001B[39m\u001B[38;5;124mMOW\u001B[39m\u001B[38;5;124m'\u001B[39m}, {\u001B[38;5;124m'\u001B[39m\u001B[38;5;124mAUH\u001B[39m\u001B[38;5;124m'\u001B[39m: \u001B[38;5;124m'\u001B[39m\u001B[38;5;124mMOW\u001B[39m\u001B[38;5;124m'\u001B[39m}]\n\u001B[0;32m      2\u001B[0m \u001B[38;5;28;01mfor\u001B[39;00m route \u001B[38;5;129;01min\u001B[39;00m routes:\n\u001B[1;32m----> 3\u001B[0m    \u001B[38;5;28;01mfor\u001B[39;00m k, v \u001B[38;5;129;01min\u001B[39;00m \u001B[43mroute\u001B[49m\u001B[38;5;241;43m.\u001B[39;49m\u001B[43mitems\u001B[49m\u001B[43m(\u001B[49m\u001B[43m)\u001B[49m\u001B[43m[\u001B[49m\u001B[38;5;241;43m0\u001B[39;49m\u001B[43m]\u001B[49m:\n\u001B[0;32m      4\u001B[0m        \u001B[38;5;28mprint\u001B[39m(k, v)\n",
      "\u001B[1;31mTypeError\u001B[0m: 'dict_items' object is not subscriptable"
     ]
    }
   ],
   "execution_count": 36
  },
  {
   "metadata": {
    "ExecuteTime": {
     "end_time": "2025-03-08T15:23:41.638624Z",
     "start_time": "2025-03-08T15:23:41.614626Z"
    }
   },
   "cell_type": "code",
   "source": [
    "import asyncio\n",
    "from playwright.async_api import async_playwright\n",
    "\n",
    "async def main():\n",
    "    async with async_playwright() as p:\n",
    "        for browser_type in [p.chromium, p.firefox, p.webkit]:\n",
    "            browser = await browser_type.launch()\n",
    "            page = await browser.new_page()\n",
    "            await page.goto('http://playwright.dev')\n",
    "            await page.screenshot(path=f'example-{browser_type.name}.png')\n",
    "            await browser.close()"
   ],
   "id": "a7568afe4df211f6",
   "outputs": [],
   "execution_count": 39
  },
  {
   "metadata": {
    "ExecuteTime": {
     "end_time": "2025-03-08T16:20:33.917721Z",
     "start_time": "2025-03-08T16:20:33.912722Z"
    }
   },
   "cell_type": "code",
   "source": [
    "string = \"location.href = '/onlineboard/onlineboard/departures_board/?ap=TAS'\"\n",
    "string.split(\"'\")"
   ],
   "id": "1a3d9048a3eccb37",
   "outputs": [
    {
     "data": {
      "text/plain": [
       "['location.href = ', '/onlineboard/onlineboard/departures_board/?ap=TAS', '']"
      ]
     },
     "execution_count": 2,
     "metadata": {},
     "output_type": "execute_result"
    }
   ],
   "execution_count": 2
  }
 ],
 "metadata": {
  "kernelspec": {
   "display_name": "Python 3",
   "language": "python",
   "name": "python3"
  },
  "language_info": {
   "codemirror_mode": {
    "name": "ipython",
    "version": 2
   },
   "file_extension": ".py",
   "mimetype": "text/x-python",
   "name": "python",
   "nbconvert_exporter": "python",
   "pygments_lexer": "ipython2",
   "version": "2.7.6"
  }
 },
 "nbformat": 4,
 "nbformat_minor": 5
}
